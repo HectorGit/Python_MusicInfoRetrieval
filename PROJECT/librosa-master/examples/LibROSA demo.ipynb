{
 "cells": [
  {
   "cell_type": "markdown",
   "metadata": {},
   "source": [
    "# Librosa demo\n",
    "\n",
    "This notebook demonstrates some of the basic functionality of librosa version 0.4.\n",
    "\n",
    "Following through this example, you'll learn how to:\n",
    "\n",
    "* Load audio input\n",
    "* Compute mel spectrogram, MFCC, delta features, chroma\n",
    "* Locate beat events\n",
    "* Compute beat-synchronous features\n",
    "* Display features\n",
    "* Save beat tracker output to a CSV file"
   ]
  },
  {
   "cell_type": "code",
   "execution_count": null,
   "metadata": {
    "collapsed": true
   },
   "outputs": [],
   "source": [
    "from __future__ import print_function"
   ]
  },
  {
   "cell_type": "code",
   "execution_count": null,
   "metadata": {
    "collapsed": false
   },
   "outputs": [],
   "source": [
    "# We'll need numpy for some mathematical operations\n",
    "import numpy as np\n",
    "\n",
    "\n",
    "# matplotlib for displaying the output\n",
    "import matplotlib.pyplot as plt\n",
    "import matplotlib.style as ms\n",
    "ms.use('seaborn-muted')\n",
    "%matplotlib inline\n",
    "\n",
    "\n",
    "# and IPython.display for audio output\n",
    "import IPython.display\n",
    "\n",
    "\n",
    "# Librosa for audio\n",
    "import librosa\n",
    "# And the display module for visualization\n",
    "import librosa.display"
   ]
  },
  {
   "cell_type": "code",
   "execution_count": null,
   "metadata": {
    "collapsed": false
   },
   "outputs": [],
   "source": [
    "audio_path = librosa.util.example_audio_file()\n",
    "\n",
    "# or uncomment the line below and point it at your favorite song:\n",
    "#\n",
    "# audio_path = '/path/to/your/favorite/song.mp3'\n",
    "\n",
    "y, sr = librosa.load(audio_path)"
   ]
  },
  {
   "cell_type": "markdown",
   "metadata": {},
   "source": [
    "By default, librosa will resample the signal to 22050Hz.\n",
    "\n",
    "You can change this behavior by saying:\n",
    "```\n",
    "librosa.load(audio_path, sr=44100)\n",
    "```\n",
    "to resample at 44.1KHz, or\n",
    "```\n",
    "librosa.load(audio_path, sr=None)\n",
    "```\n",
    "to disable resampling."
   ]
  },
  {
   "cell_type": "markdown",
   "metadata": {},
   "source": [
    "# Mel spectrogram\n",
    "This first step will show how to compute a [Mel](http://en.wikipedia.org/wiki/Mel_scale) spectrogram from an audio waveform."
   ]
  },
  {
   "cell_type": "code",
   "execution_count": null,
   "metadata": {
    "collapsed": false
   },
   "outputs": [],
   "source": [
    "# Let's make and display a mel-scaled power (energy-squared) spectrogram\n",
    "S = librosa.feature.melspectrogram(y, sr=sr, n_mels=128)\n",
    "\n",
    "# Convert to log scale (dB). We'll use the peak power as reference.\n",
    "log_S = librosa.logamplitude(S, ref_power=np.max)\n",
    "\n",
    "# Make a new figure\n",
    "plt.figure(figsize=(12,4))\n",
    "\n",
    "# Display the spectrogram on a mel scale\n",
    "# sample rate and hop length parameters are used to render the time axis\n",
    "librosa.display.specshow(log_S, sr=sr, x_axis='time', y_axis='mel')\n",
    "\n",
    "# Put a descriptive title on the plot\n",
    "plt.title('mel power spectrogram')\n",
    "\n",
    "# draw a color bar\n",
    "plt.colorbar(format='%+02.0f dB')\n",
    "\n",
    "# Make the figure layout compact\n",
    "plt.tight_layout()"
   ]
  },
  {
   "cell_type": "markdown",
   "metadata": {},
   "source": [
    "# Harmonic-percussive source separation\n",
    "\n",
    "Before doing any signal analysis, let's pull apart the harmonic and percussive components of the audio.  This is pretty easy to do with the `effects` module."
   ]
  },
  {
   "cell_type": "code",
   "execution_count": null,
   "metadata": {
    "collapsed": false
   },
   "outputs": [],
   "source": [
    "y_harmonic, y_percussive = librosa.effects.hpss(y)"
   ]
  },
  {
   "cell_type": "code",
   "execution_count": null,
   "metadata": {
    "collapsed": false
   },
   "outputs": [],
   "source": [
    "# What do the spectrograms look like?\n",
    "# Let's make and display a mel-scaled power (energy-squared) spectrogram\n",
    "S_harmonic   = librosa.feature.melspectrogram(y_harmonic, sr=sr)\n",
    "S_percussive = librosa.feature.melspectrogram(y_percussive, sr=sr)\n",
    "\n",
    "# Convert to log scale (dB). We'll use the peak power as reference.\n",
    "log_Sh = librosa.logamplitude(S_harmonic, ref_power=np.max)\n",
    "log_Sp = librosa.logamplitude(S_percussive, ref_power=np.max)\n",
    "\n",
    "# Make a new figure\n",
    "plt.figure(figsize=(12,6))\n",
    "\n",
    "plt.subplot(2,1,1)\n",
    "# Display the spectrogram on a mel scale\n",
    "librosa.display.specshow(log_Sh, sr=sr, y_axis='mel')\n",
    "\n",
    "# Put a descriptive title on the plot\n",
    "plt.title('mel power spectrogram (Harmonic)')\n",
    "\n",
    "# draw a color bar\n",
    "plt.colorbar(format='%+02.0f dB')\n",
    "\n",
    "plt.subplot(2,1,2)\n",
    "librosa.display.specshow(log_Sp, sr=sr, x_axis='time', y_axis='mel')\n",
    "\n",
    "# Put a descriptive title on the plot\n",
    "plt.title('mel power spectrogram (Percussive)')\n",
    "\n",
    "# draw a color bar\n",
    "plt.colorbar(format='%+02.0f dB')\n",
    "\n",
    "# Make the figure layout compact\n",
    "plt.tight_layout()"
   ]
  },
  {
   "cell_type": "markdown",
   "metadata": {},
   "source": [
    "# Chromagram\n",
    "\n",
    "Next, we'll extract [Chroma](http://en.wikipedia.org/wiki/Pitch_class) features to represent pitch class information."
   ]
  },
  {
   "cell_type": "code",
   "execution_count": null,
   "metadata": {
    "collapsed": false
   },
   "outputs": [],
   "source": [
    "# We'll use a CQT-based chromagram here.  An STFT-based implementation also exists in chroma_cqt()\n",
    "# We'll use the harmonic component to avoid pollution from transients\n",
    "C = librosa.feature.chroma_cqt(y=y_harmonic, sr=sr)\n",
    "\n",
    "# Make a new figure\n",
    "plt.figure(figsize=(12,4))\n",
    "\n",
    "# Display the chromagram: the energy in each chromatic pitch class as a function of time\n",
    "# To make sure that the colors span the full range of chroma values, set vmin and vmax\n",
    "librosa.display.specshow(C, sr=sr, x_axis='time', y_axis='chroma', vmin=0, vmax=1)\n",
    "\n",
    "plt.title('Chromagram')\n",
    "plt.colorbar()\n",
    "\n",
    "plt.tight_layout()"
   ]
  },
  {
   "cell_type": "markdown",
   "metadata": {},
   "source": [
    "# MFCC\n",
    "\n",
    "[Mel-frequency cepstral coefficients](http://en.wikipedia.org/wiki/Mel-frequency_cepstrum) are commonly used to represent texture or timbre of sound."
   ]
  },
  {
   "cell_type": "code",
   "execution_count": null,
   "metadata": {
    "collapsed": false
   },
   "outputs": [],
   "source": [
    "# Next, we'll extract the top 13 Mel-frequency cepstral coefficients (MFCCs)\n",
    "mfcc        = librosa.feature.mfcc(S=log_S, n_mfcc=13)\n",
    "\n",
    "# Let's pad on the first and second deltas while we're at it\n",
    "delta_mfcc  = librosa.feature.delta(mfcc)\n",
    "delta2_mfcc = librosa.feature.delta(mfcc, order=2)\n",
    "\n",
    "# How do they look?  We'll show each in its own subplot\n",
    "plt.figure(figsize=(12, 6))\n",
    "\n",
    "plt.subplot(3,1,1)\n",
    "librosa.display.specshow(mfcc)\n",
    "plt.ylabel('MFCC')\n",
    "plt.colorbar()\n",
    "\n",
    "plt.subplot(3,1,2)\n",
    "librosa.display.specshow(delta_mfcc)\n",
    "plt.ylabel('MFCC-$\\Delta$')\n",
    "plt.colorbar()\n",
    "\n",
    "plt.subplot(3,1,3)\n",
    "librosa.display.specshow(delta2_mfcc, sr=sr, x_axis='time')\n",
    "plt.ylabel('MFCC-$\\Delta^2$')\n",
    "plt.colorbar()\n",
    "\n",
    "plt.tight_layout()\n",
    "\n",
    "# For future use, we'll stack these together into one matrix\n",
    "M = np.vstack([mfcc, delta_mfcc, delta2_mfcc])"
   ]
  },
  {
   "cell_type": "markdown",
   "metadata": {},
   "source": [
    "# Beat tracking\n",
    "\n",
    "The beat tracker returns an estimate of the tempo (in beats per minute) and frame indices of beat events.\n",
    "\n",
    "The input can be either an audio time series (as we do below), or an onset strength envelope as calculated by `librosa.onset.onset_strength()`."
   ]
  },
  {
   "cell_type": "code",
   "execution_count": null,
   "metadata": {
    "collapsed": false
   },
   "outputs": [],
   "source": [
    "# Now, let's run the beat tracker.\n",
    "# We'll use the percussive component for this part\n",
    "plt.figure(figsize=(12, 6))\n",
    "tempo, beats = librosa.beat.beat_track(y=y_percussive, sr=sr)\n",
    "\n",
    "# Let's re-draw the spectrogram, but this time, overlay the detected beats\n",
    "plt.figure(figsize=(12,4))\n",
    "librosa.display.specshow(log_S, sr=sr, x_axis='time', y_axis='mel')\n",
    "\n",
    "# Let's draw transparent lines over the beat frames\n",
    "plt.vlines(librosa.frames_to_time(beats),\n",
    "           1, 0.5 * sr,\n",
    "           colors='w', linestyles='-', linewidth=2, alpha=0.5)\n",
    "\n",
    "plt.axis('tight')\n",
    "\n",
    "plt.colorbar(format='%+02.0f dB')\n",
    "\n",
    "plt.tight_layout()"
   ]
  },
  {
   "cell_type": "markdown",
   "metadata": {},
   "source": [
    "By default, the beat tracker will trim away any leading or trailing beats that don't appear strong enough.  \n",
    "\n",
    "To disable this behavior, call `beat_track()` with `trim=False`."
   ]
  },
  {
   "cell_type": "code",
   "execution_count": null,
   "metadata": {
    "collapsed": false
   },
   "outputs": [],
   "source": [
    "print('Estimated tempo:        %.2f BPM' % tempo)\n",
    "\n",
    "print('First 5 beat frames:   ', beats[:5])\n",
    "\n",
    "# Frame numbers are great and all, but when do those beats occur?\n",
    "print('First 5 beat times:    ', librosa.frames_to_time(beats[:5], sr=sr))\n",
    "\n",
    "# We could also get frame numbers from times by librosa.time_to_frames()"
   ]
  },
  {
   "cell_type": "markdown",
   "metadata": {},
   "source": [
    "# Beat-synchronous feature aggregation\n",
    "\n",
    "Once we've located the beat events, we can use them to summarize the feature content of each beat.\n",
    "\n",
    "This can be useful for reducing data dimensionality, and removing transient noise from the features."
   ]
  },
  {
   "cell_type": "code",
   "execution_count": null,
   "metadata": {
    "collapsed": false
   },
   "outputs": [],
   "source": [
    "# feature.sync will summarize each beat event by the mean feature vector within that beat\n",
    "\n",
    "M_sync = librosa.util.sync(M, beats)\n",
    "\n",
    "plt.figure(figsize=(12,6))\n",
    "\n",
    "# Let's plot the original and beat-synchronous features against each other\n",
    "plt.subplot(2,1,1)\n",
    "librosa.display.specshow(M)\n",
    "plt.title('MFCC-$\\Delta$-$\\Delta^2$')\n",
    "\n",
    "# We can also use pyplot *ticks directly\n",
    "# Let's mark off the raw MFCC and the delta features\n",
    "plt.yticks(np.arange(0, M.shape[0], 13), ['MFCC', '$\\Delta$', '$\\Delta^2$'])\n",
    "\n",
    "plt.colorbar()\n",
    "\n",
    "plt.subplot(2,1,2)\n",
    "# librosa can generate axis ticks from arbitrary timestamps and beat events also\n",
    "librosa.display.specshow(M_sync, x_axis='time',\n",
    "                         x_coords=librosa.frames_to_time(librosa.util.fix_frames(beats)))\n",
    "\n",
    "plt.yticks(np.arange(0, M_sync.shape[0], 13), ['MFCC', '$\\Delta$', '$\\Delta^2$'])             \n",
    "plt.title('Beat-synchronous MFCC-$\\Delta$-$\\Delta^2$')\n",
    "plt.colorbar()\n",
    "\n",
    "plt.tight_layout()"
   ]
  },
  {
   "cell_type": "code",
   "execution_count": null,
   "metadata": {
    "collapsed": false
   },
   "outputs": [],
   "source": [
    "# Beat synchronization is flexible.\n",
    "# Instead of computing the mean delta-MFCC within each beat, let's do beat-synchronous chroma\n",
    "# We can replace the mean with any statistical aggregation function, such as min, max, or median.\n",
    "\n",
    "C_sync = librosa.util.sync(C, beats, aggregate=np.median)\n",
    "\n",
    "plt.figure(figsize=(12,6))\n",
    "\n",
    "plt.subplot(2, 1, 1)\n",
    "librosa.display.specshow(C, sr=sr, y_axis='chroma', vmin=0.0, vmax=1.0, x_axis='time')\n",
    "\n",
    "plt.title('Chroma')\n",
    "plt.colorbar()\n",
    "\n",
    "plt.subplot(2, 1, 2)\n",
    "librosa.display.specshow(C_sync, y_axis='chroma', vmin=0.0, vmax=1.0, x_axis='time', \n",
    "                         x_coords=librosa.frames_to_time(librosa.util.fix_frames(beats)))\n",
    "\n",
    "\n",
    "plt.title('Beat-synchronous Chroma (median aggregation)')\n",
    "\n",
    "plt.colorbar()\n",
    "plt.tight_layout()"
   ]
  }
 ],
 "metadata": {
  "kernelspec": {
   "display_name": "Python 2",
   "language": "python",
   "name": "python2"
  },
  "language_info": {
   "codemirror_mode": {
    "name": "ipython",
    "version": 2
   },
   "file_extension": ".py",
   "mimetype": "text/x-python",
   "name": "python",
   "nbconvert_exporter": "python",
   "pygments_lexer": "ipython2",
   "version": "2.7.12"
  }
 },
 "nbformat": 4,
 "nbformat_minor": 0
}
