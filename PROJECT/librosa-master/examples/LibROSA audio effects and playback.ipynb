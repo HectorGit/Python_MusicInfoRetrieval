{
 "cells": [
  {
   "cell_type": "markdown",
   "metadata": {},
   "source": [
    "# Audio effects and playback with Librosa and IPython Notebook\n",
    "\n",
    "This notebook will demonstrate how to do audio effects processing with librosa and IPython notebook.  You will need IPython 2.0 or later.\n",
    "\n",
    "By the end of this notebook, you'll know how to do the following:\n",
    "\n",
    "  - Play audio in the browser\n",
    "  - Effect transformations such as harmonic/percussive source separation, time stretching, and pitch shifting\n",
    "  - Decompose and reconstruct audio signals with non-negative matrix factorization\n",
    "  - Visualize spectrogram data"
   ]
  },
  {
   "cell_type": "code",
   "execution_count": null,
   "metadata": {
    "collapsed": true
   },
   "outputs": [],
   "source": [
    "from __future__ import print_function"
   ]
  },
  {
   "cell_type": "code",
   "execution_count": null,
   "metadata": {
    "collapsed": false
   },
   "outputs": [],
   "source": [
    "import librosa\n",
    "import librosa.display\n",
    "import IPython.display\n",
    "import numpy as np"
   ]
  },
  {
   "cell_type": "code",
   "execution_count": null,
   "metadata": {
    "collapsed": false
   },
   "outputs": [],
   "source": [
    "import matplotlib.pyplot as plt\n",
    "import matplotlib.style as ms\n",
    "ms.use('seaborn-muted')\n",
    "%matplotlib inline"
   ]
  },
  {
   "cell_type": "code",
   "execution_count": null,
   "metadata": {
    "collapsed": false
   },
   "outputs": [],
   "source": [
    "# Load the example track\n",
    "y, sr = librosa.load(librosa.util.example_audio_file())"
   ]
  },
  {
   "cell_type": "code",
   "execution_count": null,
   "metadata": {
    "collapsed": false
   },
   "outputs": [],
   "source": [
    "# Play it back!\n",
    "IPython.display.Audio(data=y, rate=sr)"
   ]
  },
  {
   "cell_type": "code",
   "execution_count": null,
   "metadata": {
    "collapsed": false
   },
   "outputs": [],
   "source": [
    "# How about separating harmonic and percussive components?\n",
    "y_h, y_p = librosa.effects.hpss(y)"
   ]
  },
  {
   "cell_type": "code",
   "execution_count": null,
   "metadata": {
    "collapsed": false
   },
   "outputs": [],
   "source": [
    "# Play the harmonic component\n",
    "IPython.display.Audio(data=y_h, rate=sr)"
   ]
  },
  {
   "cell_type": "code",
   "execution_count": null,
   "metadata": {
    "collapsed": false
   },
   "outputs": [],
   "source": [
    "# Play the percussive component\n",
    "IPython.display.Audio(data=y_p, rate=sr)"
   ]
  },
  {
   "cell_type": "code",
   "execution_count": null,
   "metadata": {
    "collapsed": false
   },
   "outputs": [],
   "source": [
    "# Pitch shifting?  Let's gear-shift by a major third (4 semitones)\n",
    "y_shift = librosa.effects.pitch_shift(y, sr, 7)\n",
    "\n",
    "IPython.display.Audio(data=y_shift, rate=sr)"
   ]
  },
  {
   "cell_type": "code",
   "execution_count": null,
   "metadata": {
    "collapsed": false
   },
   "outputs": [],
   "source": [
    "# Or time-stretching?  Let's slow it down\n",
    "y_slow = librosa.effects.time_stretch(y, 0.5)\n",
    "\n",
    "IPython.display.Audio(data=y_slow, rate=sr)"
   ]
  },
  {
   "cell_type": "code",
   "execution_count": null,
   "metadata": {
    "collapsed": false
   },
   "outputs": [],
   "source": [
    "# How about something more advanced?  Let's decompose a spectrogram with NMF, and then resynthesize an individual component\n",
    "D = librosa.stft(y)\n",
    "\n",
    "# Separate the magnitude and phase\n",
    "S, phase = librosa.magphase(D)\n",
    "\n",
    "# Decompose by nmf\n",
    "components, activations = librosa.decompose.decompose(S, n_components=8, sort=True)"
   ]
  },
  {
   "cell_type": "code",
   "execution_count": null,
   "metadata": {
    "collapsed": false
   },
   "outputs": [],
   "source": [
    "# Visualize the components and activations, just for fun\n",
    "\n",
    "plt.figure(figsize=(12,4))\n",
    "\n",
    "plt.subplot(1,2,1)\n",
    "librosa.display.specshow(librosa.logamplitude(components**2.0, ref_power=np.max), y_axis='log')\n",
    "plt.xlabel('Component')\n",
    "plt.ylabel('Frequency')\n",
    "plt.title('Components')\n",
    "\n",
    "plt.subplot(1,2,2)\n",
    "librosa.display.specshow(activations, x_axis='time')\n",
    "plt.xlabel('Time')\n",
    "plt.ylabel('Component')\n",
    "plt.title('Activations')\n",
    "\n",
    "plt.tight_layout()"
   ]
  },
  {
   "cell_type": "code",
   "execution_count": null,
   "metadata": {
    "collapsed": false
   },
   "outputs": [],
   "source": [
    "print(components.shape, activations.shape)"
   ]
  },
  {
   "cell_type": "code",
   "execution_count": null,
   "metadata": {
    "collapsed": false
   },
   "outputs": [],
   "source": [
    "# Play back the reconstruction\n",
    "# Reconstruct a spectrogram by the outer product of component k and its activation\n",
    "D_k = components.dot(activations)\n",
    "\n",
    "# invert the stft after putting the phase back in\n",
    "y_k = librosa.istft(D_k * phase)\n",
    "\n",
    "# And playback\n",
    "print('Full reconstruction')\n",
    "\n",
    "IPython.display.Audio(data=y_k, rate=sr)"
   ]
  },
  {
   "cell_type": "code",
   "execution_count": null,
   "metadata": {
    "collapsed": false
   },
   "outputs": [],
   "source": [
    "# Resynthesize.  How about we isolate just first (lowest) component?\n",
    "k = 0\n",
    "\n",
    "# Reconstruct a spectrogram by the outer product of component k and its activation\n",
    "D_k = np.multiply.outer(components[:, k], activations[k])\n",
    "\n",
    "# invert the stft after putting the phase back in\n",
    "y_k = librosa.istft(D_k * phase)\n",
    "\n",
    "# And playback\n",
    "print('Component #{}'.format(k))\n",
    "\n",
    "IPython.display.Audio(data=y_k, rate=sr)"
   ]
  },
  {
   "cell_type": "code",
   "execution_count": null,
   "metadata": {
    "collapsed": false
   },
   "outputs": [],
   "source": [
    "# Resynthesize.  How about we isolate a middle-frequency component?\n",
    "k = len(activations) / 2\n",
    "\n",
    "# Reconstruct a spectrogram by the outer product of component k and its activation\n",
    "D_k = np.multiply.outer(components[:, k], activations[k])\n",
    "\n",
    "# invert the stft after putting the phase back in\n",
    "y_k = librosa.istft(D_k * phase)\n",
    "\n",
    "# And playback\n",
    "print('Component #{}'.format(k))\n",
    "\n",
    "IPython.display.Audio(data=y_k, rate=sr)"
   ]
  },
  {
   "cell_type": "code",
   "execution_count": null,
   "metadata": {
    "collapsed": false
   },
   "outputs": [],
   "source": [
    "# Resynthesize.  How about we isolate just last (highest) component?\n",
    "k = -1\n",
    "\n",
    "# Reconstruct a spectrogram by the outer product of component k and its activation\n",
    "D_k = np.multiply.outer(components[:, k], activations[k])\n",
    "\n",
    "# invert the stft after putting the phase back in\n",
    "y_k = librosa.istft(D_k * phase)\n",
    "\n",
    "# And playback\n",
    "print('Component #{}'.format(k))\n",
    "\n",
    "IPython.display.Audio(data=y_k, rate=sr)"
   ]
  }
 ],
 "metadata": {
  "kernelspec": {
   "display_name": "Python 2",
   "language": "python",
   "name": "python2"
  },
  "language_info": {
   "codemirror_mode": {
    "name": "ipython",
    "version": 2
   },
   "file_extension": ".py",
   "mimetype": "text/x-python",
   "name": "python",
   "nbconvert_exporter": "python",
   "pygments_lexer": "ipython2",
   "version": "2.7.12"
  }
 },
 "nbformat": 4,
 "nbformat_minor": 0
}
